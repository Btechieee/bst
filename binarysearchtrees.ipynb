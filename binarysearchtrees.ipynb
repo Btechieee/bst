{
  "nbformat": 4,
  "nbformat_minor": 0,
  "metadata": {
    "colab": {
      "provenance": []
    },
    "kernelspec": {
      "name": "python3",
      "display_name": "Python 3"
    },
    "language_info": {
      "name": "python"
    }
  },
  "cells": [
    {
      "cell_type": "code",
      "execution_count": 1,
      "metadata": {
        "colab": {
          "base_uri": "https://localhost:8080/"
        },
        "id": "NazO9mXjRt1_",
        "outputId": "788a0703-ca89-4e91-adf5-013100b8453b"
      },
      "outputs": [
        {
          "output_type": "stream",
          "name": "stdout",
          "text": [
            "Inorder traversal: [8, 10, 12, 15, 17, 20, 25]\n",
            "Preorder traversal: [15, 10, 8, 12, 20, 17, 25]\n",
            "Postorder traversal: [8, 12, 10, 17, 25, 20, 15]\n",
            "Node with key 10 found.\n",
            "Inorder traversal after deletion: [8, 12, 15, 17, 20, 25]\n"
          ]
        }
      ],
      "source": [
        "# Binary Search Tree Implementation in Python\n",
        "\n",
        "class Node:\n",
        "    def __init__(self, key):\n",
        "        self.left = None\n",
        "        self.right = None\n",
        "        self.val = key\n",
        "\n",
        "class BinarySearchTree:\n",
        "    def __init__(self):\n",
        "        self.root = None\n",
        "\n",
        "    def insert(self, root, key):\n",
        "        if root is None:\n",
        "            return Node(key)\n",
        "        else:\n",
        "            if root.val < key:\n",
        "                root.right = self.insert(root.right, key)\n",
        "            else:\n",
        "                root.left = self.insert(root.left, key)\n",
        "        return root\n",
        "\n",
        "    def delete(self, root, key):\n",
        "        if root is None:\n",
        "            return root\n",
        "        if key < root.val:\n",
        "            root.left = self.delete(root.left, key)\n",
        "        elif key > root.val:\n",
        "            root.right = self.delete(root.right, key)\n",
        "        else:\n",
        "            if root.left is None:\n",
        "                return root.right\n",
        "            elif root.right is None:\n",
        "                return root.left\n",
        "            temp = self.min_value_node(root.right)\n",
        "            root.val = temp.val\n",
        "            root.right = self.delete(root.right, temp.val)\n",
        "        return root\n",
        "\n",
        "    def min_value_node(self, node):\n",
        "        current = node\n",
        "        while current.left is not None:\n",
        "            current = current.left\n",
        "        return current\n",
        "\n",
        "    def search(self, root, key):\n",
        "        if root is None or root.val == key:\n",
        "            return root\n",
        "        if root.val < key:\n",
        "            return self.search(root.right, key)\n",
        "        return self.search(root.left, key)\n",
        "\n",
        "    def inorder(self, root):\n",
        "        return self.inorder(root.left) + [root.val] + self.inorder(root.right) if root else []\n",
        "\n",
        "    def preorder(self, root):\n",
        "        return [root.val] + self.preorder(root.left) + self.preorder(root.right) if root else []\n",
        "\n",
        "    def postorder(self, root):\n",
        "        return self.postorder(root.left) + self.postorder(root.right) + [root.val] if root else []\n",
        "\n",
        "# Example usage\n",
        "if __name__ == \"__main__\":\n",
        "    bst = BinarySearchTree()\n",
        "    root = None\n",
        "\n",
        "    # Insert elements\n",
        "    keys = [15, 10, 20, 8, 12, 17, 25]\n",
        "    for key in keys:\n",
        "        root = bst.insert(root, key)\n",
        "\n",
        "    # Traversal\n",
        "    print(\"Inorder traversal:\", bst.inorder(root))\n",
        "    print(\"Preorder traversal:\", bst.preorder(root))\n",
        "    print(\"Postorder traversal:\", bst.postorder(root))\n",
        "\n",
        "    # Search for a key\n",
        "    search_key = 10\n",
        "    found_node = bst.search(root, search_key)\n",
        "    if found_node:\n",
        "        print(f\"Node with key {search_key} found.\")\n",
        "    else:\n",
        "        print(f\"Node with key {search_key} not found.\")\n",
        "\n",
        "    # Delete a key\n",
        "    root = bst.delete(root, 10)\n",
        "    print(\"Inorder traversal after deletion:\", bst.inorder(root))\n"
      ]
    },
    {
      "cell_type": "code",
      "source": [],
      "metadata": {
        "id": "DvHlR1z6S_zT"
      },
      "execution_count": null,
      "outputs": []
    },
    {
      "cell_type": "code",
      "source": [],
      "metadata": {
        "id": "5M1rcLd4TFM6"
      },
      "execution_count": null,
      "outputs": []
    }
  ]
}